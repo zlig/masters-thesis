{
 "cells": [
  {
   "cell_type": "markdown",
   "metadata": {},
   "source": [
    "## Equations\n",
    "\n",
    "Find the derivative with respect to x of the following functions. **Additionally, find the derivative with respect to a of function h.**\n",
    "Provide your answers on this sheet. Where you took more than one step to arrive at the final result, please include the important steps. You may fill out the sheet by hand and submit a scanned version.\n",
    "\n",
    "$\n",
    "\\begin{align}\n",
    "f(x) = 3x^2\n",
    "\\end{align}\n",
    "$\n",
    "\n",
    "$\n",
    "\\begin{align}\n",
    "g(x) = (x+8)^2\n",
    "\\end{align}\n",
    "$\n",
    "\n",
    "$\n",
    "\\begin{align}\n",
    "h(x) = ax^3+\\frac{1}{2}x^8\n",
    "\\end{align}\n",
    "$\n",
    "\n",
    "$\n",
    "\\begin{align}\n",
    "k(x) = x^{501}+3x^7 - \\frac{1}{2}x^6+x^5+2x^3+3x^2-1   % Note 501 is between {} to display correctly\n",
    "\\end{align}\n",
    "$"
   ]
  },
  {
   "cell_type": "markdown",
   "metadata": {},
   "source": [
    "## Solutions"
   ]
  },
  {
   "cell_type": "markdown",
   "metadata": {},
   "source": [
    "#### df/dx\n",
    "\n",
    "$\n",
    "\\begin{align}\n",
    "\\frac{df}{dx} &= \\frac{d}{dx}(3x^2)\t&\\\\\n",
    "&= 3.2x^{2-1}\t&\\\\\n",
    "&= 3.2x  &\\\\\n",
    "&= 6x\n",
    "\\end{align}\n",
    "$"
   ]
  },
  {
   "cell_type": "markdown",
   "metadata": {},
   "source": [
    "#### dg/dx\n",
    "\n",
    "$\n",
    "\\begin{align}\n",
    "\\frac{dg}{dx} &=  \\frac{d}{dx} (x+8)^2 \t&\\\\\n",
    "&=   \\frac{d}{dx} (x^2+16x+64) \t&\\\\\n",
    "&=   (2x^{2-1}+16x^0+0) \t&\\\\\n",
    "&=   (2x+16) \t&\\\\\n",
    "&=   2(x+8)\n",
    "\\end{align}\n",
    "$"
   ]
  },
  {
   "cell_type": "markdown",
   "metadata": {},
   "source": [
    "#### dk/dx\n",
    "\n",
    "$\n",
    "\\begin{align}\n",
    "\\frac{dk}{dx} &= \\frac{d}{dx} (x^{501}+3x^7 - \\frac{1}{2}x^6+x^5+2x^3+3x^2-1) \t&\\\\\n",
    "&= (501x^{501-1})+3(7x^{7-1}) - \\frac{1}{2}(6x^{6-1})+(5x^{5-1})+2(3x^{3-1})+3(2x^{2-1})-0 \t&\\\\\n",
    "&= 501x^{500} + 3.7x^6 - \\frac{1}{2}.6x^5 + 5x^4 + 2.3x^2 + 3.2x \t&\\\\\n",
    "&= 501x^{500} + 21x^6 - 3x^5 + 5x^4 + 6x^2 + 6x\n",
    "\\end{align}\n",
    "$\n"
   ]
  },
  {
   "cell_type": "markdown",
   "metadata": {},
   "source": [
    "#### ∂h/∂x\n",
    "\n",
    "$\n",
    "\\begin{align}\n",
    "\\frac{\\partial h}{\\partial x} &=  \\frac{\\partial}{\\partial x} (ax^3+\\frac{1}{2}x^8)  &\\\\\n",
    "&= a(3x^2)+\\frac{1}{2}(8x^7)  &\\\\\n",
    "&= 3ax^2+4x^7\n",
    "\\end{align}\n",
    "$"
   ]
  },
  {
   "cell_type": "markdown",
   "metadata": {},
   "source": [
    "#### ∂h/∂a\n",
    "\n",
    "$\n",
    "\\begin{align}\n",
    "\\frac{\\partial h}{\\partial a} &= \\frac{\\partial}{\\partial a} (ax^3+\\frac{1}{2}x^8) \t&\\\\\n",
    "&= (x^3+0) \t&\\\\\n",
    "&= x^3\n",
    "\\end{align}\n",
    "$\n"
   ]
  }
 ],
 "metadata": {
  "kernelspec": {
   "display_name": "Python 3",
   "language": "python",
   "name": "python3"
  },
  "language_info": {
   "codemirror_mode": {
    "name": "ipython",
    "version": 3
   },
   "file_extension": ".py",
   "mimetype": "text/x-python",
   "name": "python",
   "nbconvert_exporter": "python",
   "pygments_lexer": "ipython3",
   "version": "3.6.5"
  }
 },
 "nbformat": 4,
 "nbformat_minor": 1
}
