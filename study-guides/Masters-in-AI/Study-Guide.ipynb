{
 "cells": [
  {
   "cell_type": "markdown",
   "metadata": {},
   "source": [
    "# Masters in Artificial Intelligence\n",
    "\n",
    "## Study Guide\n",
    "\n",
    "### Resources\n",
    "\n",
    "* [CalTech Lectures (Prof Abu Mostafa)](https://work.caltech.edu/lectures.html)\n",
    "* [Technical Notes On Using Data Science & Artificial Intelligence (Chris Albon)](https://chrisalbon.com/)\n",
    "* []()\n",
    "* []()\n",
    "* []()\n",
    "* []()\n"
   ]
  },
  {
   "cell_type": "markdown",
   "metadata": {},
   "source": [
    "Artificial Intelligence and Machine Learning\n",
    "--------------------\n",
    "Glossary\n",
    "* Input space\n",
    "* Output space\n",
    "* Unknown target function\n",
    "* Data set\n",
    "* Hypothesis set\n",
    "* Final Hypothesis\n",
    "* In-sample error\n",
    "* Out-of-sample error\n",
    "\n",
    "\n",
    "\n",
    "Data Analytics\n",
    "-------------------\n",
    "\n",
    "\n",
    "\n",
    "\n",
    "\n"
   ]
  },
  {
   "cell_type": "code",
   "execution_count": null,
   "metadata": {},
   "outputs": [],
   "source": []
  }
 ],
 "metadata": {
  "kernelspec": {
   "display_name": "Python 3",
   "language": "python",
   "name": "python3"
  },
  "language_info": {
   "codemirror_mode": {
    "name": "ipython",
    "version": 3
   },
   "file_extension": ".py",
   "mimetype": "text/x-python",
   "name": "python",
   "nbconvert_exporter": "python",
   "pygments_lexer": "ipython3",
   "version": "3.6.5"
  }
 },
 "nbformat": 4,
 "nbformat_minor": 2
}
