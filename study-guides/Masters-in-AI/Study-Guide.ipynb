{
 "cells": [
  {
   "cell_type": "markdown",
   "metadata": {},
   "source": [
    "Masters in Artificial Intelligence\n",
    "=============================\n",
    "\n",
    "Study Guide\n",
    "--------------------\n",
    "\n",
    "### Resources\n",
    "\n",
    "* [CalTech Lectures (Prof Abu Mostafa)](https://work.caltech.edu/lectures.html)\n",
    "\n",
    "\n",
   ]
  }
 ],
 "metadata": {
  "kernelspec": {
   "display_name": "Python 3",
   "language": "python",
   "name": "python3"
  },
  "language_info": {
   "codemirror_mode": {
    "name": "ipython",
    "version": 3
   },
   "file_extension": ".py",
   "mimetype": "text/x-python",
   "name": "python",
   "nbconvert_exporter": "python",
   "pygments_lexer": "ipython3",
   "version": "3.5.2"
  }
 },
 "nbformat": 4,
 "nbformat_minor": 2
}
