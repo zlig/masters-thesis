{
 "cells": [
  {
   "cell_type": "markdown",
   "metadata": {},
   "source": [
    "# Masters in Artificial Intelligence\n",
    "\n",
    "## Study Guide\n",
    "\n",
    "### Resources\n",
    "\n",
    "* [CalTech Lectures (Prof Abu Mostafa)](https://work.caltech.edu/lectures.html)\n",
    "* [Technical Notes On Using Data Science & Artificial Intelligence (Chris Albon)](https://chrisalbon.com/)\n",
    "* []()\n",
    "* []()\n",
    "* []()\n",
    "* []()\n"
   ]
  },
  {
   "cell_type": "markdown",
   "metadata": {},
   "source": [
    "Artificial Intelligence and Machine Learning\n",
    "--------------------\n",
    "Glossary\n",
    "\n",
    "* **Input space** the space constructed of the input features / independent variables (i.e. a space with a dimension equal to the number of features; one dimension may be added to this for the bias). This space describes what the inputs to your learning algorithm look like. Features in the input space may be continuous or categorical (i.e. classes).\n",
    "* **Output space** the space constructed of the output to be classified/predicted/approximated (dependent variable), which in most cases will be 1-dimensional (continuous or categorical). This is the (shape/format of the) output you are expecting from your learning algorithm and will determine whether you can perform a regression (approximate a continuous variable) or classification (classify a categorical variable). \n",
    "* **Unknown target function** the function that 'maps' the input features to the output. This is the underlying unknown process that has produced the outputs contained in your dataset from the respective inputs.\n",
    "* **Data set** the set of data points, each data point consisting of: 1) the features that form the input space and 2) the output / dependent variable. Note that the data set generally contains noise, both on the inputs and on the outputs.\n",
    "* **Hypothesis set** the set of functions that can be represented by the machine learning model that you have chosen. Such a hypothesis set can often be described in terms of certain parameters (i.e. the weights in your pocket algorithm). This hypothesis set will often be infinite; i.e. you have an infinite number of functions to choose from in finding the hypothesis that best fits the unknown target function.\n",
    "* **Final Hypothesis** the function that you obtain after training as the best fit to the unknown target function. Rather than thinking of this as a mathematical function that you can write down (such as a polynomial), this function is generally expressed in terms of the parameters of the model you used, such as the weights of a perceptron, linear regression or neural network, or the support vectors of an SVM.\n",
    "* **In-sample error** the error that is obtained during training.\n",
    "* **Out-of-sample error** the error that would be obtained on yet unseen data. This error cannot normally be calculated directly.\n",
    "\n",
    "Data Analytics\n",
    "-------------------\n",
    "\n",
    "\n",
    "\n",
    "\n",
    "\n"
   ]
  },
  {
   "cell_type": "code",
   "execution_count": null,
   "metadata": {},
   "outputs": [],
   "source": []
  }
 ],
 "metadata": {
  "kernelspec": {
   "display_name": "Python 3",
   "language": "python",
   "name": "python3"
  },
  "language_info": {
   "codemirror_mode": {
    "name": "ipython",
    "version": 3
   },
   "file_extension": ".py",
   "mimetype": "text/x-python",
   "name": "python",
   "nbconvert_exporter": "python",
   "pygments_lexer": "ipython3",
   "version": "3.6.5"
  }
 },
 "nbformat": 4,
 "nbformat_minor": 2
}
